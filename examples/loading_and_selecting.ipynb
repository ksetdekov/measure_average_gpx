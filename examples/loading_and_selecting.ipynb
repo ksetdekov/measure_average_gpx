{
 "cells": [
  {
   "cell_type": "code",
   "execution_count": 4,
   "metadata": {},
   "outputs": [],
   "source": [
    "import gpxpy.gpx\n",
    "import pandas as pd\n",
    "import numpy as np"
   ]
  },
  {
   "cell_type": "code",
   "execution_count": 9,
   "metadata": {},
   "outputs": [],
   "source": [
    "gpx_file = open(\"data/activity_10044912854.gpx\", 'r')\n",
    "points = []\n",
    "gpx = gpxpy.parse(gpx_file)\n",
    "for track in gpx.tracks:\n",
    "    for segment in track.segments:\n",
    "        for point in segment.points:\n",
    "            # print(\n",
    "            #     f'Point at with time {point.time} at ({point.latitude},{point.longitude}) elevation {point.elevation}')\n",
    "            points.append([point.time,point.latitude,   point.longitude,  point.elevation])\n"
   ]
  },
  {
   "cell_type": "code",
   "execution_count": 12,
   "metadata": {},
   "outputs": [],
   "source": [
    "point_dataframe = pd.DataFrame(np.array(points), columns = ['time', 'lat', 'lon', 'ele'])"
   ]
  },
  {
   "cell_type": "code",
   "execution_count": null,
   "metadata": {},
   "outputs": [],
   "source": [
    "import geopandas as gpd\n"
   ]
  },
  {
   "cell_type": "code",
   "execution_count": 15,
   "metadata": {},
   "outputs": [
    {
     "data": {
      "text/html": [
       "<div>\n",
       "<style scoped>\n",
       "    .dataframe tbody tr th:only-of-type {\n",
       "        vertical-align: middle;\n",
       "    }\n",
       "\n",
       "    .dataframe tbody tr th {\n",
       "        vertical-align: top;\n",
       "    }\n",
       "\n",
       "    .dataframe thead th {\n",
       "        text-align: right;\n",
       "    }\n",
       "</style>\n",
       "<table border=\"1\" class=\"dataframe\">\n",
       "  <thead>\n",
       "    <tr style=\"text-align: right;\">\n",
       "      <th></th>\n",
       "      <th>time</th>\n",
       "      <th>lat</th>\n",
       "      <th>lon</th>\n",
       "      <th>ele</th>\n",
       "    </tr>\n",
       "  </thead>\n",
       "  <tbody>\n",
       "    <tr>\n",
       "      <th>0</th>\n",
       "      <td>2022-11-27 10:24:13+00:00</td>\n",
       "      <td>55.817366</td>\n",
       "      <td>37.434759</td>\n",
       "      <td>123.599998</td>\n",
       "    </tr>\n",
       "    <tr>\n",
       "      <th>1</th>\n",
       "      <td>2022-11-27 10:24:14+00:00</td>\n",
       "      <td>55.817355</td>\n",
       "      <td>37.434766</td>\n",
       "      <td>123.400002</td>\n",
       "    </tr>\n",
       "    <tr>\n",
       "      <th>2</th>\n",
       "      <td>2022-11-27 10:24:15+00:00</td>\n",
       "      <td>55.817346</td>\n",
       "      <td>37.434773</td>\n",
       "      <td>123.199997</td>\n",
       "    </tr>\n",
       "    <tr>\n",
       "      <th>3</th>\n",
       "      <td>2022-11-27 10:24:16+00:00</td>\n",
       "      <td>55.817334</td>\n",
       "      <td>37.434775</td>\n",
       "      <td>123.400002</td>\n",
       "    </tr>\n",
       "    <tr>\n",
       "      <th>4</th>\n",
       "      <td>2022-11-27 10:24:17+00:00</td>\n",
       "      <td>55.817323</td>\n",
       "      <td>37.434781</td>\n",
       "      <td>123.199997</td>\n",
       "    </tr>\n",
       "    <tr>\n",
       "      <th>...</th>\n",
       "      <td>...</td>\n",
       "      <td>...</td>\n",
       "      <td>...</td>\n",
       "      <td>...</td>\n",
       "    </tr>\n",
       "    <tr>\n",
       "      <th>4583</th>\n",
       "      <td>2022-11-27 11:40:36+00:00</td>\n",
       "      <td>55.817076</td>\n",
       "      <td>37.433549</td>\n",
       "      <td>122.199997</td>\n",
       "    </tr>\n",
       "    <tr>\n",
       "      <th>4584</th>\n",
       "      <td>2022-11-27 11:40:37+00:00</td>\n",
       "      <td>55.817071</td>\n",
       "      <td>37.433584</td>\n",
       "      <td>122.400002</td>\n",
       "    </tr>\n",
       "    <tr>\n",
       "      <th>4585</th>\n",
       "      <td>2022-11-27 11:40:38+00:00</td>\n",
       "      <td>55.817066</td>\n",
       "      <td>37.433606</td>\n",
       "      <td>122.599998</td>\n",
       "    </tr>\n",
       "    <tr>\n",
       "      <th>4586</th>\n",
       "      <td>2022-11-27 11:40:39+00:00</td>\n",
       "      <td>55.817063</td>\n",
       "      <td>37.433624</td>\n",
       "      <td>122.599998</td>\n",
       "    </tr>\n",
       "    <tr>\n",
       "      <th>4587</th>\n",
       "      <td>2022-11-27 11:40:40+00:00</td>\n",
       "      <td>55.817058</td>\n",
       "      <td>37.433648</td>\n",
       "      <td>122.599998</td>\n",
       "    </tr>\n",
       "  </tbody>\n",
       "</table>\n",
       "<p>4588 rows × 4 columns</p>\n",
       "</div>"
      ],
      "text/plain": [
       "                          time        lat        lon         ele\n",
       "0    2022-11-27 10:24:13+00:00  55.817366  37.434759  123.599998\n",
       "1    2022-11-27 10:24:14+00:00  55.817355  37.434766  123.400002\n",
       "2    2022-11-27 10:24:15+00:00  55.817346  37.434773  123.199997\n",
       "3    2022-11-27 10:24:16+00:00  55.817334  37.434775  123.400002\n",
       "4    2022-11-27 10:24:17+00:00  55.817323  37.434781  123.199997\n",
       "...                        ...        ...        ...         ...\n",
       "4583 2022-11-27 11:40:36+00:00  55.817076  37.433549  122.199997\n",
       "4584 2022-11-27 11:40:37+00:00  55.817071  37.433584  122.400002\n",
       "4585 2022-11-27 11:40:38+00:00  55.817066  37.433606  122.599998\n",
       "4586 2022-11-27 11:40:39+00:00  55.817063  37.433624  122.599998\n",
       "4587 2022-11-27 11:40:40+00:00  55.817058  37.433648  122.599998\n",
       "\n",
       "[4588 rows x 4 columns]"
      ]
     },
     "execution_count": 15,
     "metadata": {},
     "output_type": "execute_result"
    }
   ],
   "source": [
    "point_dataframe"
   ]
  },
  {
   "cell_type": "code",
   "execution_count": null,
   "metadata": {},
   "outputs": [],
   "source": []
  }
 ],
 "metadata": {
  "kernelspec": {
   "display_name": "Python 3.10.8 ('venv': venv)",
   "language": "python",
   "name": "python3"
  },
  "language_info": {
   "codemirror_mode": {
    "name": "ipython",
    "version": 3
   },
   "file_extension": ".py",
   "mimetype": "text/x-python",
   "name": "python",
   "nbconvert_exporter": "python",
   "pygments_lexer": "ipython3",
   "version": "3.10.8"
  },
  "orig_nbformat": 4,
  "vscode": {
   "interpreter": {
    "hash": "f17f3bf89122e10290ffa9a11870187e3b04b66271fb07e178f000bf81e98555"
   }
  }
 },
 "nbformat": 4,
 "nbformat_minor": 2
}
